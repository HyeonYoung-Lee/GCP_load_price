{
 "cells": [
  {
   "cell_type": "code",
   "execution_count": 1,
   "metadata": {},
   "outputs": [],
   "source": [
    "from selenium.webdriver.common.by import By\n",
    "from selenium import webdriver\n",
    "import pandas as pd"
   ]
  },
  {
   "cell_type": "code",
   "execution_count": 2,
   "metadata": {},
   "outputs": [],
   "source": [
    "region_list = {'io': 'us-central1', 'ore': 'us-west1', 'la': 'us-west2', \n",
    "                'slc': 'us-west3', 'lv': 'us-west4', 'sc': 'us-east1', \n",
    "                'nv': 'us-east4', 'col': 'us-east5', 'dl': 'us-south1', \n",
    "                'mtreal': 'northamerica-northeast1', 'tor': 'northamerica-northeast2', \n",
    "                'spaulo': 'southamerica-east1', 'sant': 'southamerica-west1', 'fi': 'europe-north1', \n",
    "                'eu': 'europe-west1', 'lon': 'europe-west2', 'ffurt': 'europe-west3', \n",
    "                'nether': 'europe-west4', 'zur': 'europe-west6', 'ml': 'europe-west8', \n",
    "                'par': 'europe-west9', 'wsaw': 'europe-central2', 'mrid': 'europe-southwest1', \n",
    "                'mbai': 'asia-south1', 'del': 'asia-south2', 'sg': 'asia-southeast1', \n",
    "                'jk': 'asia-southeast2', 'syd': 'australia-southeast1', 'mel': 'australia-southeast2', \n",
    "                'hk': 'asia-east2', 'tw': 'asia-east1', 'ja': 'asia-northeast1', \n",
    "                'osa': 'asia-northeast2', 'kr': 'asia-northeast3'\n",
    "                }"
   ]
  },
  {
   "cell_type": "code",
   "execution_count": 3,
   "metadata": {},
   "outputs": [],
   "source": [
    "instance_type_list = ['n1-standard-1', 'n1-standard-2', 'n1-standard-4', 'n1-standard-8', 'n1-standard-16', 'n1-standard-32', 'n1-standard-64', 'n1-standard-96', \n",
    "                        'n1-highmem-2', 'n1-highmem-4', 'n1-highmem-8', 'n1-highmem-16', 'n1-highmem-32', 'n1-highmem-64', 'n1-highmem-96', \n",
    "                        'n1-highcpu-2', 'n1-highcpu-4', 'n1-highcpu-8', 'n1-highcpu-16', 'n1-highcpu-32', 'n1-highcpu-64', 'n1-highcpu-96', \n",
    "                        'f1-micro', 'g1-small', \n",
    "                        'e2-standard-2', 'e2-standard-4', 'e2-standard-8', 'e2-standard-16', 'e2-standard-32', \n",
    "                        'e2-highmem-2', 'e2-highmem-4', 'e2-highmem-8', 'e2-highmem-16', \n",
    "                        'e2-highcpu-2', 'e2-highcpu-4', 'e2-highcpu-8', 'e2-highcpu-16', 'e2-highcpu-32', \n",
    "                        'e2-micro', 'e2-small', 'e2-medium',\n",
    "                        'n2-standard-2', 'n2-standard-4', 'n2-standard-8', 'n2-standard-16', 'n2-standard-32', 'n2-standard-48', 'n2-standard-64', 'n2-standard-80', 'n2-standard-96', 'n2-standard-128', \n",
    "                        'n2-highmem-2', 'n2-highmem-4', 'n2-highmem-8', 'n2-highmem-16', 'n2-highmem-32', 'n2-highmem-48', 'n2-highmem-64', 'n2-highmem-80', 'n2-highmem-96', 'n2-highmem-128', \n",
    "                        'n2-highcpu-2', 'n2-highcpu-4', 'n2-highcpu-8', 'n2-highcpu-16', 'n2-highcpu-32', 'n2-highcpu-48', 'n2-highcpu-64', 'n2-highcpu-80', 'n2-highcpu-96',\n",
    "                        'n2d-standard-2', 'n2d-standard-4', 'n2d-standard-8', 'n2d-standard-16', 'n2d-standard-32', 'n2d-standard-48', 'n2d-standard-64', 'n2d-standard-80', 'n2d-standard-96', 'n2d-standard-128', 'n2d-standard-224',\n",
    "                        'n2d-highmem-2', 'n2d-highmem-4', 'n2d-highmem-8', 'n2d-highmem-16', 'n2d-highmem-32', 'n2d-highmem-48', 'n2d-highmem-64', 'n2d-highmem-80', 'n2d-highmem-96', \n",
    "                        'n2d-highcpu-2', 'n2d-highcpu-4', 'n2d-highcpu-8','n2d-highcpu-16', 'n2d-highcpu-32', 'n2d-highcpu-48', 'n2d-highcpu-64', 'n2d-highcpu-80', 'n2d-highcpu-96', 'n2d-highcpu-128', 'n2d-highcpu-224',\n",
    "                        't2d-standard-1', 't2d-standard-2', 't2d-standard-4', 't2d-standard-8', 't2d-standard-16', 't2d-standard-32', 't2d-standard-48', 't2d-standard-60',\n",
    "                        'c2-standard-4', 'c2-standard-8', 'c2-standard-16', 'c2-standard-30', 'c2-standard-60',\n",
    "                        'c2d-standard-2', 'c2d-standard-4', 'c2d-standard-8', 'c2d-standard-16', 'c2d-standard-32', 'c2d-standard-56', 'c2d-standard-112',\n",
    "                        'c2d-highcpu-2', 'c2d-highcpu-4', 'c2d-highcpu-8', 'c2d-highcpu-16', 'c2d-highcpu-32', 'c2d-highcpu-56', 'c2d-highcpu-112',\n",
    "                        'c2d-highmem-2', 'c2d-highmem-4', 'c2d-highmem-8', 'c2d-highmem-16', 'c2d-highmem-32', 'c2d-highmem-56', 'c2d-highmem-112',\n",
    "                        'm1-ultramem-40', 'm1-ultramem-80', 'm1-ultramem-160', 'm1-megamem-96',\n",
    "                        'a2-highgpu-1g', 'a2-highgpu-2g', 'a2-highgpu-4g', 'a2-highgpu-8g', 'a2-megagpu-16g'             \n",
    "                        ]"
   ]
  },
  {
   "cell_type": "code",
   "execution_count": 4,
   "metadata": {},
   "outputs": [
    {
     "name": "stderr",
     "output_type": "stream",
     "text": [
      "C:\\Users\\wynter\\AppData\\Local\\Temp\\ipykernel_21684\\3430028840.py:3: DeprecationWarning: executable_path has been deprecated, please pass in a Service object\n",
      "  driver = webdriver.Chrome('C:/Users/wynter/Desktop/DDPS/GCP/chromedriver.exe', chrome_options=chrome_options)\n",
      "C:\\Users\\wynter\\AppData\\Local\\Temp\\ipykernel_21684\\3430028840.py:3: DeprecationWarning: use options instead of chrome_options\n",
      "  driver = webdriver.Chrome('C:/Users/wynter/Desktop/DDPS/GCP/chromedriver.exe', chrome_options=chrome_options)\n"
     ]
    }
   ],
   "source": [
    "chrome_options = webdriver.ChromeOptions()\n",
    "chrome_options.add_argument('lang=en')\n",
    "driver = webdriver.Chrome('C:/Users/wynter/Desktop/DDPS/GCP/chromedriver.exe', chrome_options=chrome_options)"
   ]
  },
  {
   "cell_type": "code",
   "execution_count": 5,
   "metadata": {},
   "outputs": [],
   "source": [
    "driver.get('https://cloud.google.com/compute/vm-instance-pricing')\n",
    "driver.implicitly_wait(60)\n",
    "driver.maximize_window()"
   ]
  },
  {
   "cell_type": "code",
   "execution_count": 6,
   "metadata": {},
   "outputs": [],
   "source": [
    "def get_data(start, end):\n",
    "    tbody = driver.find_element(By.XPATH, '/html/body/div[1]/div[2]/table/tbody')\n",
    "    tmp_data = {}\n",
    "    for i in range(start, end):\n",
    "        instance_type = tbody.find_element(By.XPATH, '//tr[{}]/td[1]'.format(i)).text\n",
    "        ondemand_meta = tbody.find_element(By.XPATH, '//tr[{}]/td[4]'.format(i))\n",
    "        preemptible_meta = tbody.find_element(By.XPATH, '//tr[{}]/td[5]'.format(i))\n",
    "        tmp_data[instance_type] = {'ondemand_meta' : ondemand_meta, 'preemptible_meta': preemptible_meta}\n",
    "        \n",
    "    return tmp_data"
   ]
  },
  {
   "cell_type": "code",
   "execution_count": 7,
   "metadata": {},
   "outputs": [],
   "source": [
    "data = {}\n",
    "for type in instance_type_list:\n",
    "    data[type] = {}\n",
    "    for region in region_list.values():\n",
    "        data[type][region] = {}"
   ]
  },
  {
   "cell_type": "code",
   "execution_count": 8,
   "metadata": {},
   "outputs": [],
   "source": [
    "def extract_price(meta_data):\n",
    "    for instance_type, v in meta_data.items():\n",
    "        if instance_type.find('\\n') != -1:\n",
    "            instance_type = instance_type.split('\\n')[0]\n",
    "        for abbr, region in region_list.items():\n",
    "            attr = abbr + '-hourly'\n",
    "            # ondemand\n",
    "            price =''\n",
    "            price_str = v['ondemand_meta'].get_attribute(attr)\n",
    "            if price_str == 'Not available in this region':\n",
    "                price = None\n",
    "            else:\n",
    "                price = float(price_str.split('$')[1])\n",
    "            data[instance_type][region]['ondemand'] = price\n",
    "            \n",
    "            # preemptible\n",
    "            price_str = v['preemptible_meta'].get_attribute(attr)\n",
    "            if price_str == 'Not available in this region':\n",
    "                price = None\n",
    "            else:\n",
    "                price = float(price_str.split('$')[1])\n",
    "            data[instance_type][region]['preemptible'] = price"
   ]
  },
  {
   "cell_type": "markdown",
   "metadata": {},
   "source": [
    "E2"
   ]
  },
  {
   "cell_type": "code",
   "execution_count": 9,
   "metadata": {},
   "outputs": [],
   "source": [
    "# e2 - standard\n",
    "# /compute/vm-instance-pricing_51451955a829ab2ddc64343b76c5b2d0c97dfb7a49aa90e84a52feaeb0b64878.frame\n",
    "driver.switch_to.default_content()\n",
    "iframe = driver.find_element(By.XPATH, '//*[@id=\"cloud-site\"]/div/div/devsite-iframe[2]/iframe')\n",
    "driver.switch_to.frame(iframe)\n",
    "meta_data = get_data(1, 6)\n",
    "extract_price(meta_data)"
   ]
  },
  {
   "cell_type": "code",
   "execution_count": 10,
   "metadata": {},
   "outputs": [],
   "source": [
    "# e2 - highmem\n",
    "# /compute/vm-instance-pricing_b747f67ec6a2894db18cecac56d4cab10ac63b92334739181e291040a6fa8cf1.frame\n",
    "driver.switch_to.default_content()\n",
    "iframe = driver.find_element(By.XPATH, '//*[@id=\"cloud-site\"]/div/div/devsite-iframe[3]/iframe')\n",
    "driver.switch_to.frame(iframe)\n",
    "meta_data = get_data(1, 5)\n",
    "extract_price(meta_data)"
   ]
  },
  {
   "cell_type": "code",
   "execution_count": 11,
   "metadata": {},
   "outputs": [],
   "source": [
    "# e2 - highcpu\n",
    "# /compute/vm-instance-pricing_e3d59378fc9e1288c9dd07863eae5f82ee1d6f31755b3066ddb1fa6bb8e5e2e1.frame\n",
    "driver.switch_to.default_content()\n",
    "iframe = driver.find_element(By.XPATH, '//*[@id=\"cloud-site\"]/div/div/devsite-iframe[4]/iframe')\n",
    "driver.switch_to.frame(iframe)\n",
    "meta_data = get_data(2, 7)\n",
    "extract_price(meta_data)"
   ]
  },
  {
   "cell_type": "markdown",
   "metadata": {},
   "source": [
    "N2"
   ]
  },
  {
   "cell_type": "code",
   "execution_count": 12,
   "metadata": {},
   "outputs": [],
   "source": [
    "# n2 - standard\n",
    "# /compute/vm-instance-pricing_64d75027679ab8bb307b3512797cd5d583ce46ca175fe0bbdad6948ba4bdf882.frame\n",
    "driver.switch_to.default_content()\n",
    "iframe = driver.find_element(By.XPATH, '//*[@id=\"cloud-site\"]/div/div/devsite-iframe[7]/iframe')\n",
    "driver.switch_to.frame(iframe)\n",
    "meta_data = get_data(1, 11)\n",
    "extract_price(meta_data)"
   ]
  },
  {
   "cell_type": "code",
   "execution_count": 13,
   "metadata": {},
   "outputs": [],
   "source": [
    "# n2 - highmem\n",
    "# /compute/vm-instance-pricing_4153c2042be2fa683adda9191fb6ddf4fc24d750fc9b4169a9ced495fbf2d8f4.frame\n",
    "driver.switch_to.default_content()\n",
    "iframe = driver.find_element(By.XPATH, '//*[@id=\"cloud-site\"]/div/div/devsite-iframe[8]/iframe')\n",
    "driver.switch_to.frame(iframe)\n",
    "meta_data = get_data(1, 11)\n",
    "extract_price(meta_data)"
   ]
  },
  {
   "cell_type": "code",
   "execution_count": 14,
   "metadata": {},
   "outputs": [],
   "source": [
    "# n2 - highcpu\n",
    "# /compute/vm-instance-pricing_72c59d47b0d8748e0ba888c39a1f5c56e4c5afa7401bbeb7501e988888088671.frame\n",
    "driver.switch_to.default_content()\n",
    "iframe = driver.find_element(By.XPATH, '//*[@id=\"cloud-site\"]/div/div/devsite-iframe[9]/iframe')\n",
    "driver.switch_to.frame(iframe)\n",
    "meta_data = get_data(2, 11)\n",
    "extract_price(meta_data)"
   ]
  },
  {
   "cell_type": "markdown",
   "metadata": {},
   "source": [
    "N2D"
   ]
  },
  {
   "cell_type": "code",
   "execution_count": 15,
   "metadata": {},
   "outputs": [],
   "source": [
    "# n2d - standard\n",
    "# /compute/vm-instance-pricing_f57299f62761215b28c8e29e41fb0648920e48bbed5362e27a7d83a9441215dc.frame\n",
    "driver.switch_to.default_content()\n",
    "iframe = driver.find_element(By.XPATH, '//*[@id=\"cloud-site\"]/div/div/devsite-iframe[13]/iframe')\n",
    "driver.switch_to.frame(iframe)\n",
    "meta_data = get_data(1, 12)\n",
    "extract_price(meta_data)"
   ]
  },
  {
   "cell_type": "code",
   "execution_count": 16,
   "metadata": {},
   "outputs": [],
   "source": [
    "# n2d - highmem\n",
    "# /compute/vm-instance-pricing_9f7a2ab81eac9cb257ccb80d37211dab92c96516294bc22a13bfc8cf79b02762.frame\n",
    "driver.switch_to.default_content()\n",
    "iframe = driver.find_element(By.XPATH, '//*[@id=\"cloud-site\"]/div/div/devsite-iframe[14]/iframe')\n",
    "driver.switch_to.frame(iframe)\n",
    "meta_data = get_data(1, 10)\n",
    "extract_price(meta_data)"
   ]
  },
  {
   "cell_type": "code",
   "execution_count": 17,
   "metadata": {},
   "outputs": [],
   "source": [
    "# n2d - highcpu\n",
    "# /compute/vm-instance-pricing_9505620acf3760cc0175a6fcc1ed35b3cfe9de6ad8254980044b9a2069e82444.frame\n",
    "driver.switch_to.default_content()\n",
    "iframe = driver.find_element(By.XPATH, '//*[@id=\"cloud-site\"]/div/div/devsite-iframe[15]/iframe')\n",
    "driver.switch_to.frame(iframe)\n",
    "meta_data = get_data(2, 13)\n",
    "extract_price(meta_data)"
   ]
  },
  {
   "cell_type": "markdown",
   "metadata": {},
   "source": [
    "T2D"
   ]
  },
  {
   "cell_type": "code",
   "execution_count": 18,
   "metadata": {},
   "outputs": [],
   "source": [
    "# t2d - standard\n",
    "# /compute/vm-instance-pricing_a9106bdad11bb74e956a67ed7b32e4830504d41d36bc4be1b14b12c9727ae32d.frame\n",
    "driver.switch_to.default_content()\n",
    "iframe = driver.find_element(By.XPATH, '//*[@id=\"cloud-site\"]/div/div/devsite-iframe[19]/iframe')\n",
    "driver.switch_to.frame(iframe)\n",
    "meta_data = get_data(1, 9)\n",
    "extract_price(meta_data)"
   ]
  },
  {
   "cell_type": "markdown",
   "metadata": {},
   "source": [
    "N1"
   ]
  },
  {
   "cell_type": "code",
   "execution_count": 19,
   "metadata": {},
   "outputs": [],
   "source": [
    "# n1 - standard\n",
    "# /compute/vm-instance-pricing_cfcd3369c8e79d6d1a11ca30eea717f33efafd2ff5b8183aeccef58e41a4943f.frame\n",
    "driver.switch_to.default_content()\n",
    "iframe = driver.find_element(By.XPATH, '//*[@id=\"cloud-site\"]/div/div/devsite-iframe[23]/iframe')\n",
    "driver.switch_to.frame(iframe)\n",
    "meta_data = get_data(1, 9)\n",
    "extract_price(meta_data)"
   ]
  },
  {
   "cell_type": "code",
   "execution_count": 20,
   "metadata": {},
   "outputs": [],
   "source": [
    "# n1 - highmem\n",
    "# /compute/vm-instance-pricing_36cc230d8ad39a001d34accc4205692a4299ed0c59c56f5e69e395673de3560b.frame\n",
    "driver.switch_to.default_content()\n",
    "iframe = driver.find_element(By.XPATH, '//*[@id=\"cloud-site\"]/div/div/devsite-iframe[24]/iframe')\n",
    "driver.switch_to.frame(iframe)\n",
    "meta_data = get_data(1, 8)\n",
    "extract_price(meta_data)"
   ]
  },
  {
   "cell_type": "code",
   "execution_count": 21,
   "metadata": {},
   "outputs": [],
   "source": [
    "# n1 - highcpu\n",
    "# /compute/vm-instance-pricing_4c30e0b63d9faff404b634c2acc95ae4031c827ef09436ac83bbc24a0d911b5a.frame\n",
    "driver.switch_to.default_content()\n",
    "iframe = driver.find_element(By.XPATH, '//*[@id=\"cloud-site\"]/div/div/devsite-iframe[25]/iframe')\n",
    "driver.switch_to.frame(iframe)\n",
    "meta_data = get_data(2, 9)\n",
    "extract_price(meta_data)"
   ]
  },
  {
   "cell_type": "markdown",
   "metadata": {},
   "source": [
    "C2"
   ]
  },
  {
   "cell_type": "code",
   "execution_count": 22,
   "metadata": {},
   "outputs": [],
   "source": [
    "# c2 - standard\n",
    "# /compute/vm-instance-pricing_c96b6f9f65f3362f1ec485280e8076bcb0f41cb18662dc11f18f84485c39f3fa.frame\n",
    "driver.switch_to.default_content()\n",
    "iframe = driver.find_element(By.XPATH, '//*[@id=\"cloud-site\"]/div/div/devsite-iframe[29]/iframe')\n",
    "driver.switch_to.frame(iframe)\n",
    "meta_data = get_data(1, 6)\n",
    "extract_price(meta_data)"
   ]
  },
  {
   "cell_type": "markdown",
   "metadata": {},
   "source": [
    "C2D"
   ]
  },
  {
   "cell_type": "code",
   "execution_count": 23,
   "metadata": {},
   "outputs": [],
   "source": [
    "# c2d - standard\n",
    "# /compute/vm-instance-pricing_051d136c200b77df58db2f1fe7b942d59cf169c7796fd1770eac552f66cc8a8c.frame\n",
    "driver.switch_to.default_content()\n",
    "iframe = driver.find_element(By.XPATH, '//*[@id=\"cloud-site\"]/div/div/devsite-iframe[31]/iframe')\n",
    "driver.switch_to.frame(iframe)\n",
    "\n",
    "# get data\n",
    "tbody = driver.find_element(By.XPATH, '/html/body/div[1]/div[2]/table/tbody')\n",
    "meta_data = {}\n",
    "for i in range(1, 8):\n",
    "    instance_type = tbody.find_element(By.XPATH, '//tr[{}]/td[1]'.format(i)).text\n",
    "    ondemand_meta = tbody.find_element(By.XPATH, '//tr[{}]/td[4]'.format(i))\n",
    "    preemptible_meta = tbody.find_element(By.XPATH, '//tr[{}]/td[7]'.format(i))\n",
    "    meta_data[instance_type] = {'ondemand_meta' : ondemand_meta, 'preemptible_meta': preemptible_meta}\n",
    "\n",
    "extract_price(meta_data)"
   ]
  },
  {
   "cell_type": "code",
   "execution_count": 24,
   "metadata": {},
   "outputs": [],
   "source": [
    "# c2d - highmem\n",
    "# /compute/vm-instance-pricing_cf742a718c46fc7281e11ac9f820b0bb2820f3a43e5685f765eec9c4af53f3e3.frame\n",
    "driver.switch_to.default_content()\n",
    "iframe = driver.find_element(By.XPATH, '//*[@id=\"cloud-site\"]/div/div/devsite-iframe[32]/iframe')\n",
    "driver.switch_to.frame(iframe)\n",
    "\n",
    "# get data\n",
    "tbody = driver.find_element(By.XPATH, '/html/body/div[1]/div[2]/table/tbody')\n",
    "meta_data = {}\n",
    "for i in range(1, 8):\n",
    "    instance_type = tbody.find_element(By.XPATH, '//tr[{}]/td[1]'.format(i)).text\n",
    "    ondemand_meta = tbody.find_element(By.XPATH, '//tr[{}]/td[4]'.format(i))\n",
    "    preemptible_meta = tbody.find_element(By.XPATH, '//tr[{}]/td[7]'.format(i))\n",
    "    meta_data[instance_type] = {'ondemand_meta' : ondemand_meta, 'preemptible_meta': preemptible_meta}\n",
    "    \n",
    "extract_price(meta_data)"
   ]
  },
  {
   "cell_type": "code",
   "execution_count": 25,
   "metadata": {},
   "outputs": [],
   "source": [
    "# c2d - highcpu\n",
    "# /compute/vm-instance-pricing_dac99e56f7402837ecdcda0c191873e158c96b7e67e4528249f0390bba978bc3.frame\n",
    "driver.switch_to.default_content()\n",
    "iframe = driver.find_element(By.XPATH, '//*[@id=\"cloud-site\"]/div/div/devsite-iframe[33]/iframe')\n",
    "driver.switch_to.frame(iframe)\n",
    "\n",
    "# get data\n",
    "tbody = driver.find_element(By.XPATH, '/html/body/div[1]/div[2]/table/tbody')\n",
    "meta_data = {}\n",
    "for i in range(1, 8):\n",
    "    instance_type = tbody.find_element(By.XPATH, '//tr[{}]/td[1]'.format(i)).text\n",
    "    ondemand_meta = tbody.find_element(By.XPATH, '//tr[{}]/td[4]'.format(i))\n",
    "    preemptible_meta = tbody.find_element(By.XPATH, '//tr[{}]/td[7]'.format(i))\n",
    "    meta_data[instance_type] = {'ondemand_meta' : ondemand_meta, 'preemptible_meta': preemptible_meta}\n",
    "\n",
    "extract_price(meta_data)"
   ]
  },
  {
   "cell_type": "markdown",
   "metadata": {},
   "source": [
    "M1"
   ]
  },
  {
   "cell_type": "code",
   "execution_count": 26,
   "metadata": {},
   "outputs": [],
   "source": [
    "# m1\n",
    "# /compute/vm-instance-pricing_88ee27e95a5f4a3040b31ffdc3740bd35f0fcff625a43f504a016ee345164021.frame\n",
    "driver.switch_to.default_content()\n",
    "iframe = driver.find_element(By.XPATH, '//*[@id=\"cloud-site\"]/div/div/devsite-iframe[36]/iframe')\n",
    "driver.switch_to.frame(iframe)\n",
    "\n",
    "meta_data = {}\n",
    "# get data\n",
    "tbody = driver.find_element(By.XPATH, '/html/body/div/div[2]/table/tbody[1]')\n",
    "for i in range(1, 4):\n",
    "    instance_type = tbody.find_element(By.XPATH, '//tr[{}]/td[1]'.format(i)).text\n",
    "    ondemand_meta = tbody.find_element(By.XPATH, '//tr[{}]/td[4]'.format(i))\n",
    "    preemptible_meta = tbody.find_element(By.XPATH, '//tr[{}]/td[5]'.format(i))\n",
    "    meta_data[instance_type] = {'ondemand_meta' : ondemand_meta, 'preemptible_meta': preemptible_meta}\n",
    "instance_type = driver.find_element(By.XPATH, '/html/body/div[1]/div[2]/table/tbody[2]/tr/td[1]'.format(i)).text\n",
    "ondemand_meta = driver.find_element(By.XPATH, '/html/body/div[1]/div[2]/table/tbody[2]/tr/td[4]'.format(i))\n",
    "preemptible_meta = driver.find_element(By.XPATH, '/html/body/div[1]/div[2]/table/tbody[2]/tr/td[5]'.format(i))\n",
    "meta_data[instance_type] = {'ondemand_meta' : ondemand_meta, 'preemptible_meta': preemptible_meta}\n",
    "\n",
    "extract_price(meta_data)"
   ]
  },
  {
   "cell_type": "markdown",
   "metadata": {},
   "source": [
    "A2"
   ]
  },
  {
   "cell_type": "code",
   "execution_count": 27,
   "metadata": {},
   "outputs": [],
   "source": [
    "# a2\n",
    "# /compute/vm-instance-pricing_635a1b161b44c70b47f867eeac54f6f8f8cae3d4916c4892bb19915d08754c6b.frame\n",
    "driver.switch_to.default_content()\n",
    "iframe = driver.find_element(By.XPATH, '//*[@id=\"cloud-site\"]/div/div/devsite-iframe[38]/iframe')\n",
    "driver.switch_to.frame(iframe)\n",
    "meta_data = get_data(1, 6)\n",
    "extract_price(meta_data)"
   ]
  },
  {
   "cell_type": "markdown",
   "metadata": {},
   "source": [
    "E2- shared core"
   ]
  },
  {
   "cell_type": "code",
   "execution_count": 28,
   "metadata": {},
   "outputs": [],
   "source": [
    "# /compute/vm-instance-pricing_dea4e47ca3a59a3a824bd87159e2603427495911c337ee7249f9e01cb6bbbc14.frame\n",
    "driver.switch_to.default_content()\n",
    "iframe = driver.find_element(By.XPATH, '//*[@id=\"cloud-site\"]/div/div/devsite-iframe[39]/iframe')\n",
    "driver.switch_to.frame(iframe)\n",
    "meta_data = get_data(1, 4)\n",
    "extract_price(meta_data)"
   ]
  },
  {
   "cell_type": "markdown",
   "metadata": {},
   "source": [
    "N1- shared core"
   ]
  },
  {
   "cell_type": "code",
   "execution_count": 29,
   "metadata": {},
   "outputs": [],
   "source": [
    "# /compute/vm-instance-pricing_963514ca6e98c6735b95d5ef454521127019dc8f04132b79d5c2f8c1a6d5978f.frame\n",
    "driver.switch_to.default_content()\n",
    "iframe = driver.find_element(By.XPATH, '//*[@id=\"cloud-site\"]/div/div/devsite-iframe[40]/iframe')\n",
    "driver.switch_to.frame(iframe)\n",
    "meta_data = get_data(1, 3)\n",
    "extract_price(meta_data)"
   ]
  },
  {
   "cell_type": "code",
   "execution_count": 30,
   "metadata": {},
   "outputs": [],
   "source": [
    "df_price_crawl = pd.DataFrame(data)"
   ]
  },
  {
   "cell_type": "code",
   "execution_count": 31,
   "metadata": {},
   "outputs": [],
   "source": [
    "df_price_crawl.to_json('./gcp_data/dynamic_crawl_price.json')"
   ]
  },
  {
   "cell_type": "code",
   "execution_count": null,
   "metadata": {},
   "outputs": [],
   "source": []
  }
 ],
 "metadata": {
  "kernelspec": {
   "display_name": "Python 3.10.4 64-bit",
   "language": "python",
   "name": "python3"
  },
  "language_info": {
   "codemirror_mode": {
    "name": "ipython",
    "version": 3
   },
   "file_extension": ".py",
   "mimetype": "text/x-python",
   "name": "python",
   "nbconvert_exporter": "python",
   "pygments_lexer": "ipython3",
   "version": "3.10.4"
  },
  "orig_nbformat": 4,
  "vscode": {
   "interpreter": {
    "hash": "dfeb6f9788d16a221a085043db70ed2dd191136b365dfd9b4361e8492f1b538b"
   }
  }
 },
 "nbformat": 4,
 "nbformat_minor": 2
}
