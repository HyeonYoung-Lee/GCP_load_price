{
 "cells": [
  {
   "cell_type": "code",
   "execution_count": 1,
   "metadata": {},
   "outputs": [],
   "source": [
    "import requests\n",
    "from bs4 import BeautifulSoup\n",
    "import pandas as pd"
   ]
  },
  {
   "cell_type": "code",
   "execution_count": 2,
   "metadata": {},
   "outputs": [],
   "source": [
    "region_list = {'io': 'us-central1', 'ore': 'us-west1', 'la': 'us-west2', \n",
    "                'slc': 'us-west3', 'lv': 'us-west4', 'sc': 'us-east1', \n",
    "                'nv': 'us-east4', 'col': 'us-east5', 'dl': 'us-south1', \n",
    "                'mtreal': 'northamerica-northeast1', 'tor': 'northamerica-northeast2', \n",
    "                'spaulo': 'southamerica-east1', 'sant': 'southamerica-west1', 'fi': 'europe-north1', \n",
    "                'eu': 'europe-west1', 'lon': 'europe-west2', 'ffurt': 'europe-west3', \n",
    "                'nether': 'europe-west4', 'zur': 'europe-west6', 'ml': 'europe-west8', \n",
    "                'par': 'europe-west9', 'wsaw': 'europe-central2', 'mrid': 'europe-southwest1', \n",
    "                'mbai': 'asia-south1', 'del': 'asia-south2', 'sg': 'asia-southeast1', \n",
    "                'jk': 'asia-southeast2', 'syd': 'australia-southeast1', 'mel': 'australia-southeast2', \n",
    "                'hk': 'asia-east2', 'tw': 'asia-east1', 'ja': 'asia-northeast1', \n",
    "                'osa': 'asia-northeast2', 'kr': 'asia-northeast3'\n",
    "                }"
   ]
  },
  {
   "cell_type": "code",
   "execution_count": 3,
   "metadata": {},
   "outputs": [],
   "source": [
    "instance_type_list = ['n1-standard-1', 'n1-standard-2', 'n1-standard-4', 'n1-standard-8', 'n1-standard-16', 'n1-standard-32', 'n1-standard-64', 'n1-standard-96', \n",
    "                        'n1-highmem-2', 'n1-highmem-4', 'n1-highmem-8', 'n1-highmem-16', 'n1-highmem-32', 'n1-highmem-64', 'n1-highmem-96', \n",
    "                        'n1-highcpu-2', 'n1-highcpu-4', 'n1-highcpu-8', 'n1-highcpu-16', 'n1-highcpu-32', 'n1-highcpu-64', 'n1-highcpu-96', \n",
    "                        'f1-micro', 'g1-small', \n",
    "                        'e2-standard-2', 'e2-standard-4', 'e2-standard-8', 'e2-standard-16', 'e2-standard-32', \n",
    "                        'e2-highmem-2', 'e2-highmem-4', 'e2-highmem-8', 'e2-highmem-16', \n",
    "                        'e2-highcpu-2', 'e2-highcpu-4', 'e2-highcpu-8', 'e2-highcpu-16', 'e2-highcpu-32', \n",
    "                        'e2-micro', 'e2-small', 'e2-medium',\n",
    "                        'n2-standard-2', 'n2-standard-4', 'n2-standard-8', 'n2-standard-16', 'n2-standard-32', 'n2-standard-48', 'n2-standard-64', 'n2-standard-80', 'n2-standard-96', 'n2-standard-128', \n",
    "                        'n2-highmem-2', 'n2-highmem-4', 'n2-highmem-8', 'n2-highmem-16', 'n2-highmem-32', 'n2-highmem-48', 'n2-highmem-64', 'n2-highmem-80', 'n2-highmem-96', 'n2-highmem-128', \n",
    "                        'n2-highcpu-2', 'n2-highcpu-4', 'n2-highcpu-8', 'n2-highcpu-16', 'n2-highcpu-32', 'n2-highcpu-48', 'n2-highcpu-64', 'n2-highcpu-80', 'n2-highcpu-96',\n",
    "                        'n2d-standard-2', 'n2d-standard-4', 'n2d-standard-8', 'n2d-standard-16', 'n2d-standard-32', 'n2d-standard-48', 'n2d-standard-64', 'n2d-standard-80', 'n2d-standard-96', 'n2d-standard-128', 'n2d-standard-224',\n",
    "                        'n2d-highmem-2', 'n2d-highmem-4', 'n2d-highmem-8', 'n2d-highmem-16', 'n2d-highmem-32', 'n2d-highmem-48', 'n2d-highmem-64', 'n2d-highmem-80', 'n2d-highmem-96', \n",
    "                        'n2d-highcpu-2', 'n2d-highcpu-4', 'n2d-highcpu-8','n2d-highcpu-16', 'n2d-highcpu-32', 'n2d-highcpu-48', 'n2d-highcpu-64', 'n2d-highcpu-80', 'n2d-highcpu-96', 'n2d-highcpu-128', 'n2d-highcpu-224',\n",
    "                        't2d-standard-1', 't2d-standard-2', 't2d-standard-4', 't2d-standard-8', 't2d-standard-16', 't2d-standard-32', 't2d-standard-48', 't2d-standard-60',\n",
    "                        'c2-standard-4', 'c2-standard-8', 'c2-standard-16', 'c2-standard-30', 'c2-standard-60',\n",
    "                        'c2d-standard-2', 'c2d-standard-4', 'c2d-standard-8', 'c2d-standard-16', 'c2d-standard-32', 'c2d-standard-56', 'c2d-standard-112',\n",
    "                        'c2d-highcpu-2', 'c2d-highcpu-4', 'c2d-highcpu-8', 'c2d-highcpu-16', 'c2d-highcpu-32', 'c2d-highcpu-56', 'c2d-highcpu-112',\n",
    "                        'c2d-highmem-2', 'c2d-highmem-4', 'c2d-highmem-8', 'c2d-highmem-16', 'c2d-highmem-32', 'c2d-highmem-56', 'c2d-highmem-112',\n",
    "                        'm1-ultramem-40', 'm1-ultramem-80', 'm1-ultramem-160', 'm1-megamem-96',\n",
    "                        'a2-highgpu-1g', 'a2-highgpu-2g', 'a2-highgpu-4g', 'a2-highgpu-8g', 'a2-megagpu-16g'             \n",
    "                        ]"
   ]
  },
  {
   "cell_type": "code",
   "execution_count": 4,
   "metadata": {},
   "outputs": [],
   "source": [
    "data = {}\n",
    "for type in instance_type_list:\n",
    "    data[type] = {}\n",
    "    for region in region_list.values():\n",
    "        data[type][region] = {}"
   ]
  },
  {
   "cell_type": "code",
   "execution_count": 5,
   "metadata": {},
   "outputs": [],
   "source": [
    "def get_table_from_iframe(url):\n",
    "    response = requests.get('https://cloud.google.com' + url)\n",
    "    if response.status_code == 200:\n",
    "        html = response.text\n",
    "        soup = BeautifulSoup(html, 'html.parser')\n",
    "        tbody = soup.select_one('tbody')\n",
    "        return tbody\n",
    "    else:\n",
    "        print(response.status_code)\n",
    "        return None"
   ]
  },
  {
   "cell_type": "code",
   "execution_count": 6,
   "metadata": {},
   "outputs": [],
   "source": [
    "def extract_price(tbody):\n",
    "    tr_list = tbody.select('tr')\n",
    "    for tr in tr_list:\n",
    "        try :\n",
    "            machine_type = tr.select('td')[0].get_text()\n",
    "            ondemand_region_price = tr.select('td')[3]\n",
    "            preemptible_region_price = tr.select('td')[4]\n",
    "            \n",
    "            if machine_type.find('Skylake Platform only') != -1:\n",
    "                machine_type = machine_type.split('Skylake Platform only')[0]\n",
    "            elif machine_type.find('\\n') != -1:\n",
    "                machine_type = machine_type.strip()\n",
    "\n",
    "            for abbr, region in region_list.items():\n",
    "                attr = abbr + '-hourly'\n",
    "                ondemand_str = ondemand_region_price[attr]\n",
    "                preemptible_str = preemptible_region_price[attr]\n",
    "                ondemand_prc = ''\n",
    "                preemptible_prc = ''\n",
    "                \n",
    "                if ondemand_str == 'Not available in this region' :\n",
    "                    ondemand_prc =  None\n",
    "                else :\n",
    "                    ondemand_prc = float(ondemand_str.split('$')[1])\n",
    "                \n",
    "                if preemptible_str == 'Not available in this region' :\n",
    "                    preemptible_prc = None\n",
    "                else :\n",
    "                    preemptible_prc = float(preemptible_str.split('$')[1])\n",
    "                \n",
    "                data[machine_type][region]['ondemand'] = ondemand_prc\n",
    "                data[machine_type][region]['preemptible'] = preemptible_prc\n",
    "                \n",
    "        except IndexError as e:\n",
    "            pass\n",
    "        \n",
    "        except Exception as e:\n",
    "            print(e)"
   ]
  },
  {
   "cell_type": "code",
   "execution_count": 7,
   "metadata": {},
   "outputs": [],
   "source": [
    "url_list = ['/compute/vm-instance-pricing_51451955a829ab2ddc64343b76c5b2d0c97dfb7a49aa90e84a52feaeb0b64878.frame',\n",
    "            '/compute/vm-instance-pricing_b747f67ec6a2894db18cecac56d4cab10ac63b92334739181e291040a6fa8cf1.frame',\n",
    "            '/compute/vm-instance-pricing_e3d59378fc9e1288c9dd07863eae5f82ee1d6f31755b3066ddb1fa6bb8e5e2e1.frame',\n",
    "            '/compute/vm-instance-pricing_64d75027679ab8bb307b3512797cd5d583ce46ca175fe0bbdad6948ba4bdf882.frame',\n",
    "            '/compute/vm-instance-pricing_4153c2042be2fa683adda9191fb6ddf4fc24d750fc9b4169a9ced495fbf2d8f4.frame',\n",
    "            '/compute/vm-instance-pricing_72c59d47b0d8748e0ba888c39a1f5c56e4c5afa7401bbeb7501e988888088671.frame',\n",
    "            '/compute/vm-instance-pricing_f57299f62761215b28c8e29e41fb0648920e48bbed5362e27a7d83a9441215dc.frame',\n",
    "            '/compute/vm-instance-pricing_9f7a2ab81eac9cb257ccb80d37211dab92c96516294bc22a13bfc8cf79b02762.frame',\n",
    "            '/compute/vm-instance-pricing_9505620acf3760cc0175a6fcc1ed35b3cfe9de6ad8254980044b9a2069e82444.frame',\n",
    "            '/compute/vm-instance-pricing_a9106bdad11bb74e956a67ed7b32e4830504d41d36bc4be1b14b12c9727ae32d.frame',\n",
    "            '/compute/vm-instance-pricing_cfcd3369c8e79d6d1a11ca30eea717f33efafd2ff5b8183aeccef58e41a4943f.frame',\n",
    "            '/compute/vm-instance-pricing_36cc230d8ad39a001d34accc4205692a4299ed0c59c56f5e69e395673de3560b.frame',\n",
    "            '/compute/vm-instance-pricing_4c30e0b63d9faff404b634c2acc95ae4031c827ef09436ac83bbc24a0d911b5a.frame',\n",
    "            '/compute/vm-instance-pricing_c96b6f9f65f3362f1ec485280e8076bcb0f41cb18662dc11f18f84485c39f3fa.frame',\n",
    "            '/compute/vm-instance-pricing_051d136c200b77df58db2f1fe7b942d59cf169c7796fd1770eac552f66cc8a8c.frame',\n",
    "            '/compute/vm-instance-pricing_cf742a718c46fc7281e11ac9f820b0bb2820f3a43e5685f765eec9c4af53f3e3.frame',\n",
    "            '/compute/vm-instance-pricing_dac99e56f7402837ecdcda0c191873e158c96b7e67e4528249f0390bba978bc3.frame',\n",
    "            '/compute/vm-instance-pricing_88ee27e95a5f4a3040b31ffdc3740bd35f0fcff625a43f504a016ee345164021.frame',\n",
    "            '/compute/vm-instance-pricing_635a1b161b44c70b47f867eeac54f6f8f8cae3d4916c4892bb19915d08754c6b.frame',\n",
    "            '/compute/vm-instance-pricing_dea4e47ca3a59a3a824bd87159e2603427495911c337ee7249f9e01cb6bbbc14.frame',\n",
    "            '/compute/vm-instance-pricing_963514ca6e98c6735b95d5ef454521127019dc8f04132b79d5c2f8c1a6d5978f.frame'\n",
    "            ]"
   ]
  },
  {
   "cell_type": "code",
   "execution_count": 8,
   "metadata": {},
   "outputs": [],
   "source": [
    "for url in url_list:\n",
    "    tbody = get_table_from_iframe(url)\n",
    "    if tbody != None:\n",
    "        extract_price(tbody)"
   ]
  },
  {
   "cell_type": "code",
   "execution_count": 9,
   "metadata": {},
   "outputs": [],
   "source": [
    "df_price_crawl = pd.DataFrame(data)\n",
    "df_price_crawl.to_json('./gcp_data/crawl_price.json')"
   ]
  }
 ],
 "metadata": {
  "kernelspec": {
   "display_name": "Python 3.10.4 64-bit",
   "language": "python",
   "name": "python3"
  },
  "language_info": {
   "codemirror_mode": {
    "name": "ipython",
    "version": 3
   },
   "file_extension": ".py",
   "mimetype": "text/x-python",
   "name": "python",
   "nbconvert_exporter": "python",
   "pygments_lexer": "ipython3",
   "version": "3.10.4"
  },
  "orig_nbformat": 4,
  "vscode": {
   "interpreter": {
    "hash": "dfeb6f9788d16a221a085043db70ed2dd191136b365dfd9b4361e8492f1b538b"
   }
  }
 },
 "nbformat": 4,
 "nbformat_minor": 2
}
