{
 "cells": [
  {
   "cell_type": "code",
   "execution_count": 609,
   "metadata": {},
   "outputs": [],
   "source": [
    "from selenium.webdriver.common.by import By\n",
    "from selenium.webdriver.common.action_chains import ActionChains\n",
    "from selenium import webdriver\n",
    "import pyautogui as pag\n",
    "from selenium.webdriver.common.keys import Keys\n",
    "from bs4 import BeautifulSoup\n",
    "import requests\n",
    "import time\n",
    "import pandas as pd"
   ]
  },
  {
   "cell_type": "code",
   "execution_count": 610,
   "metadata": {},
   "outputs": [],
   "source": [
    "# region_list = ['Iowa (us-central1)', 'Oregon (us-west1)', 'Los Angeles (us-west2)', \n",
    "#                 'Salt Lake City (us-west3)', 'Las Vegas (us-west4)', 'South Carolina (us-east1)', \n",
    "#                 'Northern Virginia (us-east4)', 'Columbus (us-east5)', 'Dallas (us-south1)', \n",
    "#                 'Montréal (northamerica-northeast1)', 'Toronto (northamerica-northeast2)', \n",
    "#                 'São Paulo (southamerica-east1)', 'Santiago (southamerica-west1)', 'Finland (europe-north1)', \n",
    "#                 'Belgium (europe-west1)', 'London (europe-west2)', 'Frankfurt (europe-west3)', \n",
    "#                 'Netherlands (europe-west4)', 'Zürich (europe-west6)', 'Milan (europe-west8)', \n",
    "#                 'Paris (europe-west9)', 'Warsaw (europe-central2)', 'Madrid (europe-southwest1)', \n",
    "#                 'Mumbai (asia-south1)', 'Delhi (asia-south2)', 'Singapore (asia-southeast1)', \n",
    "#                 'Jakarta (asia-southeast2)', 'Sydney (australia-southeast1)', 'Melbourne (australia-southeast2)', \n",
    "#                 'Hong Kong (asia-east2)', 'Taiwan (asia-east1)', 'Tokyo (asia-northeast1)', \n",
    "#                 'Osaka (asia-northeast2)', 'Seoul (asia-northeast3)'\n",
    "#                 ]\n",
    "\n",
    "# region_initial = ['io', 'ore', 'la', 'slc', 'lv', 'sc',\n",
    "#                     'nv', 'col', 'dl', 'mtreal', 'tor', \n",
    "#                     'spaulo', 'sant', 'fi', 'eu', 'lon', \n",
    "#                     'ffurt', 'nether', 'zur', 'ml', 'par', \n",
    "#                     'wsaw', 'mrid', 'mbai', 'del', 'sg', \n",
    "#                     'jk', 'syd', 'mel', 'hk', 'tw', 'ja', 'osa', 'kr'\n",
    "#                 ]\n",
    "\n",
    "region_list = {'io': 'us-central1', 'ore': 'us-west1', 'la': 'us-west2', \n",
    "                'slc': 'us-west3', 'lv': 'us-west4', 'sc': 'us-east1', \n",
    "                'nv': 'us-east4', 'col': 'us-east5', 'dl': 'us-south1', \n",
    "                'mtreal': 'northamerica-northeast1', 'tor': 'northamerica-northeast2', \n",
    "                'spaulo': 'southamerica-east1', 'sant': 'southamerica-west1', 'fi': 'europe-north1', \n",
    "                'eu': 'europe-west1', 'lon': 'europe-west2', 'ffurt': 'europe-west3', \n",
    "                'nether': 'europe-west4', 'zur': 'europe-west6', 'ml': 'europe-west8', \n",
    "                'par': 'europe-west9', 'wsaw': 'europe-central2', 'mrid': 'europe-southwest1', \n",
    "                'mbai': 'asia-south1', 'del': 'asia-south2', 'sg': 'asia-southeast1', \n",
    "                'jk': 'asia-southeast2', 'syd': 'australia-southeast1', 'mel': 'australia-southeast2', \n",
    "                'hk': 'asia-east2', 'tw': 'asia-east1', 'ja': 'asia-northeast1', \n",
    "                'osa': 'asia-northeast2', 'kr': 'asia-northeast3'\n",
    "                }"
   ]
  },
  {
   "cell_type": "code",
   "execution_count": 611,
   "metadata": {},
   "outputs": [],
   "source": [
    "instance_type_list = ['n1-standard-1', 'n1-standard-2', 'n1-standard-4', 'n1-standard-8', 'n1-standard-16', 'n1-standard-32', 'n1-standard-64', 'n1-standard-96', \n",
    "                        'n1-highmem-2', 'n1-highmem-4', 'n1-highmem-8', 'n1-highmem-16', 'n1-highmem-32', 'n1-highmem-64', 'n1-highmem-96', \n",
    "                        'n1-highcpu-2', 'n1-highcpu-4', 'n1-highcpu-8', 'n1-highcpu-16', 'n1-highcpu-32', 'n1-highcpu-64', 'n1-highcpu-96', \n",
    "                        'f1-micro', 'g1-small', \n",
    "                        'e2-standard-2', 'e2-standard-4', 'e2-standard-8', 'e2-standard-16', 'e2-standard-32', \n",
    "                        'e2-highmem-2', 'e2-highmem-4', 'e2-highmem-8', 'e2-highmem-16', \n",
    "                        'e2-highcpu-2', 'e2-highcpu-4', 'e2-highcpu-8', 'e2-highcpu-16', 'e2-highcpu-32', \n",
    "                        'e2-micro', 'e2-small', 'e2-medium',\n",
    "                        'n2-standard-2', 'n2-standard-4', 'n2-standard-8', 'n2-standard-16', 'n2-standard-32', 'n2-standard-48', 'n2-standard-64', 'n2-standard-80', 'n2-standard-96', 'n2-standard-128', \n",
    "                        'n2-highmem-2', 'n2-highmem-4', 'n2-highmem-8', 'n2-highmem-16', 'n2-highmem-32', 'n2-highmem-48', 'n2-highmem-64', 'n2-highmem-80', 'n2-highmem-96', 'n2-highmem-128', \n",
    "                        'n2-highcpu-2', 'n2-highcpu-4', 'n2-highcpu-8', 'n2-highcpu-16', 'n2-highcpu-32', 'n2-highcpu-48', 'n2-highcpu-64', 'n2-highcpu-80', 'n2-highcpu-96',\n",
    "                        'n2d-standard-2', 'n2d-standard-4', 'n2d-standard-8', 'n2d-standard-16', 'n2d-standard-32', 'n2d-standard-48', 'n2d-standard-64', 'n2d-standard-80', 'n2d-standard-96', 'n2d-standard-128', 'n2d-standard-224',\n",
    "                        'n2d-highmem-2', 'n2d-highmem-4', 'n2d-highmem-8', 'n2d-highmem-16', 'n2d-highmem-32', 'n2d-highmem-48', 'n2d-highmem-64', 'n2d-highmem-80', 'n2d-highmem-96', \n",
    "                        'n2d-highcpu-2', 'n2d-highcpu-4', 'n2d-highcpu-8','n2d-highcpu-16', 'n2d-highcpu-32', 'n2d-highcpu-48', 'n2d-highcpu-64', 'n2d-highcpu-80', 'n2d-highcpu-96', 'n2d-highcpu-128', 'n2d-highcpu-224',\n",
    "                        't2d-standard-1', 't2d-standard-2', 't2d-standard-4', 't2d-standard-8', 't2d-standard-16', 't2d-standard-32', 't2d-standard-48', 't2d-standard-60',\n",
    "                        'c2-standard-4', 'c2-standard-8', 'c2-standard-16', 'c2-standard-30', 'c2-standard-60',\n",
    "                        'c2d-standard-2', 'c2d-standard-4', 'c2d-standard-8', 'c2d-standard-16', 'c2d-standard-32', 'c2d-standard-56', 'c2d-standard-112',\n",
    "                        'c2d-highcpu-2', 'c2d-highcpu-4', 'c2d-highcpu-8', 'c2d-highcpu-16', 'c2d-highcpu-32', 'c2d-highcpu-56', 'c2d-highcpu-112',\n",
    "                        'c2d-highmem-2', 'c2d-highmem-4', 'c2d-highmem-8', 'c2d-highmem-16', 'c2d-highmem-32', 'c2d-highmem-56', 'c2d-highmem-112',\n",
    "                        'm1-ultramem-40', 'm1-ultramem-80', 'm1-ultramem-160', 'm1-megamem-96',\n",
    "                        'a2-highgpu-1g', 'a2-highgpu-2g', 'a2-highgpu-4g', 'a2-highgpu-8g', 'a2-megagpu-16g'             \n",
    "                        ]"
   ]
  },
  {
   "cell_type": "code",
   "execution_count": 612,
   "metadata": {},
   "outputs": [
    {
     "name": "stderr",
     "output_type": "stream",
     "text": [
      "C:\\Users\\wynter\\AppData\\Local\\Temp\\ipykernel_18872\\3430028840.py:3: DeprecationWarning: executable_path has been deprecated, please pass in a Service object\n",
      "  driver = webdriver.Chrome('C:/Users/wynter/Desktop/DDPS/GCP/chromedriver.exe', chrome_options=chrome_options)\n",
      "C:\\Users\\wynter\\AppData\\Local\\Temp\\ipykernel_18872\\3430028840.py:3: DeprecationWarning: use options instead of chrome_options\n",
      "  driver = webdriver.Chrome('C:/Users/wynter/Desktop/DDPS/GCP/chromedriver.exe', chrome_options=chrome_options)\n"
     ]
    }
   ],
   "source": [
    "chrome_options = webdriver.ChromeOptions()\n",
    "chrome_options.add_argument('lang=en')\n",
    "driver = webdriver.Chrome('C:/Users/wynter/Desktop/DDPS/GCP/chromedriver.exe', chrome_options=chrome_options)"
   ]
  },
  {
   "cell_type": "code",
   "execution_count": 613,
   "metadata": {},
   "outputs": [],
   "source": [
    "driver.get('https://cloud.google.com/compute/vm-instance-pricing')\n",
    "driver.implicitly_wait(60)\n",
    "driver.maximize_window()"
   ]
  },
  {
   "cell_type": "code",
   "execution_count": 614,
   "metadata": {},
   "outputs": [],
   "source": [
    "def get_data(start, end):\n",
    "    tbody = driver.find_element(By.XPATH, '/html/body/div[1]/div[2]/table/tbody')\n",
    "    tmp_data = {}\n",
    "    for i in range(start, end):\n",
    "        instance_type = tbody.find_element(By.XPATH, '//tr[{}]/td[1]'.format(i)).text\n",
    "        ondemand_meta = tbody.find_element(By.XPATH, '//tr[{}]/td[4]'.format(i))\n",
    "        preemptible_meta = tbody.find_element(By.XPATH, '//tr[{}]/td[5]'.format(i))\n",
    "        tmp_data[instance_type] = {'ondemand_meta' : ondemand_meta, 'preemptible_meta': preemptible_meta}\n",
    "        \n",
    "    return tmp_data"
   ]
  },
  {
   "cell_type": "code",
   "execution_count": 644,
   "metadata": {},
   "outputs": [],
   "source": [
    "def extract_price(meta_data):\n",
    "    for instance_type, v in meta_data.items():\n",
    "        if instance_type.find('\\n') != -1:\n",
    "            instance_type = instance_type.split('\\n')[0]\n",
    "        for abbr, region in region_list.items():\n",
    "            attr = abbr + '-hourly'\n",
    "            # ondemand\n",
    "            price =''\n",
    "            price_str = v['ondemand_meta'].get_attribute(attr)\n",
    "            if price_str == 'Not available in this region':\n",
    "                price = None\n",
    "            else:\n",
    "                price = float(price_str.split('$')[1])\n",
    "            data[instance_type][region]['ondemand'] = price\n",
    "            \n",
    "            # preemptible\n",
    "            price_str = v['preemptible_meta'].get_attribute(attr)\n",
    "            if price_str == 'Not available in this region':\n",
    "                price = None\n",
    "            else:\n",
    "                price = float(price_str.split('$')[1])\n",
    "            data[instance_type][region]['preemptible'] = price"
   ]
  },
  {
   "cell_type": "code",
   "execution_count": 645,
   "metadata": {},
   "outputs": [],
   "source": [
    "data = {}\n",
    "for type in instance_type_list:\n",
    "    data[type] = {}\n",
    "    for region in region_list.values():\n",
    "        data[type][region] = {}"
   ]
  },
  {
   "cell_type": "markdown",
   "metadata": {},
   "source": [
    "E2"
   ]
  },
  {
   "cell_type": "code",
   "execution_count": 646,
   "metadata": {},
   "outputs": [],
   "source": [
    "# e2 - standard\n",
    "driver.switch_to.default_content()\n",
    "iframe = driver.find_element(By.XPATH, '//*[@id=\"cloud-site\"]/div/div/devsite-iframe[2]/iframe')\n",
    "driver.switch_to.frame(iframe)\n",
    "meta_data = get_data(1, 6)\n",
    "extract_price(meta_data)"
   ]
  },
  {
   "cell_type": "code",
   "execution_count": 647,
   "metadata": {},
   "outputs": [],
   "source": [
    "# e2 - highmem\n",
    "driver.switch_to.default_content()\n",
    "iframe = driver.find_element(By.XPATH, '//*[@id=\"cloud-site\"]/div/div/devsite-iframe[3]/iframe')\n",
    "driver.switch_to.frame(iframe)\n",
    "meta_data = get_data(1, 5)\n",
    "extract_price(meta_data)"
   ]
  },
  {
   "cell_type": "code",
   "execution_count": 648,
   "metadata": {},
   "outputs": [],
   "source": [
    "# e2 - highcpu\n",
    "driver.switch_to.default_content()\n",
    "iframe = driver.find_element(By.XPATH, '//*[@id=\"cloud-site\"]/div/div/devsite-iframe[4]/iframe')\n",
    "driver.switch_to.frame(iframe)\n",
    "meta_data = get_data(2, 7)\n",
    "extract_price(meta_data)"
   ]
  },
  {
   "cell_type": "markdown",
   "metadata": {},
   "source": [
    "N2"
   ]
  },
  {
   "cell_type": "code",
   "execution_count": 649,
   "metadata": {},
   "outputs": [],
   "source": [
    "# n2 - standard\n",
    "driver.switch_to.default_content()\n",
    "iframe = driver.find_element(By.XPATH, '//*[@id=\"cloud-site\"]/div/div/devsite-iframe[7]/iframe')\n",
    "driver.switch_to.frame(iframe)\n",
    "meta_data = get_data(1, 11)\n",
    "extract_price(meta_data)"
   ]
  },
  {
   "cell_type": "code",
   "execution_count": 650,
   "metadata": {},
   "outputs": [],
   "source": [
    "# n2 - hihgmem\n",
    "driver.switch_to.default_content()\n",
    "iframe = driver.find_element(By.XPATH, '//*[@id=\"cloud-site\"]/div/div/devsite-iframe[8]/iframe')\n",
    "driver.switch_to.frame(iframe)\n",
    "meta_data = get_data(1, 11)\n",
    "extract_price(meta_data)"
   ]
  },
  {
   "cell_type": "code",
   "execution_count": 651,
   "metadata": {},
   "outputs": [],
   "source": [
    "# n2 - highcpu\n",
    "driver.switch_to.default_content()\n",
    "iframe = driver.find_element(By.XPATH, '//*[@id=\"cloud-site\"]/div/div/devsite-iframe[9]/iframe')\n",
    "driver.switch_to.frame(iframe)\n",
    "meta_data = get_data(2, 11)\n",
    "extract_price(meta_data)"
   ]
  },
  {
   "cell_type": "markdown",
   "metadata": {},
   "source": [
    "N2D"
   ]
  },
  {
   "cell_type": "code",
   "execution_count": 652,
   "metadata": {},
   "outputs": [],
   "source": [
    "# n2d - standard\n",
    "driver.switch_to.default_content()\n",
    "iframe = driver.find_element(By.XPATH, '//*[@id=\"cloud-site\"]/div/div/devsite-iframe[13]/iframe')\n",
    "driver.switch_to.frame(iframe)\n",
    "meta_data = get_data(1, 12)\n",
    "extract_price(meta_data)"
   ]
  },
  {
   "cell_type": "code",
   "execution_count": 653,
   "metadata": {},
   "outputs": [],
   "source": [
    "# n2d - highmem\n",
    "driver.switch_to.default_content()\n",
    "iframe = driver.find_element(By.XPATH, '//*[@id=\"cloud-site\"]/div/div/devsite-iframe[14]/iframe')\n",
    "driver.switch_to.frame(iframe)\n",
    "meta_data = get_data(1, 10)\n",
    "extract_price(meta_data)"
   ]
  },
  {
   "cell_type": "code",
   "execution_count": 654,
   "metadata": {},
   "outputs": [],
   "source": [
    "# n2d - highcpu\n",
    "driver.switch_to.default_content()\n",
    "iframe = driver.find_element(By.XPATH, '//*[@id=\"cloud-site\"]/div/div/devsite-iframe[15]/iframe')\n",
    "driver.switch_to.frame(iframe)\n",
    "meta_data = get_data(2, 13)\n",
    "extract_price(meta_data)"
   ]
  },
  {
   "cell_type": "markdown",
   "metadata": {},
   "source": [
    "T2D"
   ]
  },
  {
   "cell_type": "code",
   "execution_count": 655,
   "metadata": {},
   "outputs": [],
   "source": [
    "# t2d - standard\n",
    "driver.switch_to.default_content()\n",
    "iframe = driver.find_element(By.XPATH, '//*[@id=\"cloud-site\"]/div/div/devsite-iframe[19]/iframe')\n",
    "driver.switch_to.frame(iframe)\n",
    "meta_data = get_data(1, 9)\n",
    "extract_price(meta_data)"
   ]
  },
  {
   "cell_type": "markdown",
   "metadata": {},
   "source": [
    "N1"
   ]
  },
  {
   "cell_type": "code",
   "execution_count": 656,
   "metadata": {},
   "outputs": [],
   "source": [
    "# n1 - standard\n",
    "driver.switch_to.default_content()\n",
    "iframe = driver.find_element(By.XPATH, '//*[@id=\"cloud-site\"]/div/div/devsite-iframe[23]/iframe')\n",
    "driver.switch_to.frame(iframe)\n",
    "meta_data = get_data(1, 9)\n",
    "extract_price(meta_data)"
   ]
  },
  {
   "cell_type": "code",
   "execution_count": 657,
   "metadata": {},
   "outputs": [],
   "source": [
    "# n1 - highmem\n",
    "driver.switch_to.default_content()\n",
    "iframe = driver.find_element(By.XPATH, '//*[@id=\"cloud-site\"]/div/div/devsite-iframe[24]/iframe')\n",
    "driver.switch_to.frame(iframe)\n",
    "meta_data = get_data(1, 8)\n",
    "extract_price(meta_data)"
   ]
  },
  {
   "cell_type": "code",
   "execution_count": 658,
   "metadata": {},
   "outputs": [],
   "source": [
    "# n1 - highcpu\n",
    "driver.switch_to.default_content()\n",
    "iframe = driver.find_element(By.XPATH, '//*[@id=\"cloud-site\"]/div/div/devsite-iframe[25]/iframe')\n",
    "driver.switch_to.frame(iframe)\n",
    "meta_data = get_data(2, 9)\n",
    "extract_price(meta_data)"
   ]
  },
  {
   "cell_type": "markdown",
   "metadata": {},
   "source": [
    "C2"
   ]
  },
  {
   "cell_type": "code",
   "execution_count": 659,
   "metadata": {},
   "outputs": [],
   "source": [
    "# c2 - standard\n",
    "driver.switch_to.default_content()\n",
    "iframe = driver.find_element(By.XPATH, '//*[@id=\"cloud-site\"]/div/div/devsite-iframe[29]/iframe')\n",
    "driver.switch_to.frame(iframe)\n",
    "meta_data = get_data(1, 6)\n",
    "extract_price(meta_data)"
   ]
  },
  {
   "cell_type": "markdown",
   "metadata": {},
   "source": [
    "C2D"
   ]
  },
  {
   "cell_type": "code",
   "execution_count": 660,
   "metadata": {},
   "outputs": [],
   "source": [
    "# c2d - standard\n",
    "driver.switch_to.default_content()\n",
    "iframe = driver.find_element(By.XPATH, '//*[@id=\"cloud-site\"]/div/div/devsite-iframe[31]/iframe')\n",
    "driver.switch_to.frame(iframe)\n",
    "\n",
    "# get data\n",
    "tbody = driver.find_element(By.XPATH, '/html/body/div[1]/div[2]/table/tbody')\n",
    "meta_data = {}\n",
    "for i in range(1, 8):\n",
    "    instance_type = tbody.find_element(By.XPATH, '//tr[{}]/td[1]'.format(i)).text\n",
    "    ondemand_meta = tbody.find_element(By.XPATH, '//tr[{}]/td[4]'.format(i))\n",
    "    preemptible_meta = tbody.find_element(By.XPATH, '//tr[{}]/td[7]'.format(i))\n",
    "    meta_data[instance_type] = {'ondemand_meta' : ondemand_meta, 'preemptible_meta': preemptible_meta}\n",
    "\n",
    "extract_price(meta_data)"
   ]
  },
  {
   "cell_type": "code",
   "execution_count": 661,
   "metadata": {},
   "outputs": [],
   "source": [
    "# c2d - highmem\n",
    "driver.switch_to.default_content()\n",
    "iframe = driver.find_element(By.XPATH, '//*[@id=\"cloud-site\"]/div/div/devsite-iframe[32]/iframe')\n",
    "driver.switch_to.frame(iframe)\n",
    "# get data\n",
    "tbody = driver.find_element(By.XPATH, '/html/body/div[1]/div[2]/table/tbody')\n",
    "meta_data = {}\n",
    "for i in range(1, 8):\n",
    "    instance_type = tbody.find_element(By.XPATH, '//tr[{}]/td[1]'.format(i)).text\n",
    "    ondemand_meta = tbody.find_element(By.XPATH, '//tr[{}]/td[4]'.format(i))\n",
    "    preemptible_meta = tbody.find_element(By.XPATH, '//tr[{}]/td[7]'.format(i))\n",
    "    meta_data[instance_type] = {'ondemand_meta' : ondemand_meta, 'preemptible_meta': preemptible_meta}\n",
    "    \n",
    "extract_price(meta_data)"
   ]
  },
  {
   "cell_type": "code",
   "execution_count": 662,
   "metadata": {},
   "outputs": [],
   "source": [
    "# c2d - highcpu\n",
    "driver.switch_to.default_content()\n",
    "iframe = driver.find_element(By.XPATH, '//*[@id=\"cloud-site\"]/div/div/devsite-iframe[33]/iframe')\n",
    "driver.switch_to.frame(iframe)\n",
    "# get data\n",
    "tbody = driver.find_element(By.XPATH, '/html/body/div[1]/div[2]/table/tbody')\n",
    "meta_data = {}\n",
    "for i in range(1, 8):\n",
    "    instance_type = tbody.find_element(By.XPATH, '//tr[{}]/td[1]'.format(i)).text\n",
    "    ondemand_meta = tbody.find_element(By.XPATH, '//tr[{}]/td[4]'.format(i))\n",
    "    preemptible_meta = tbody.find_element(By.XPATH, '//tr[{}]/td[7]'.format(i))\n",
    "    meta_data[instance_type] = {'ondemand_meta' : ondemand_meta, 'preemptible_meta': preemptible_meta}\n",
    "\n",
    "extract_price(meta_data)"
   ]
  },
  {
   "cell_type": "markdown",
   "metadata": {},
   "source": [
    "M1"
   ]
  },
  {
   "cell_type": "code",
   "execution_count": 663,
   "metadata": {},
   "outputs": [],
   "source": [
    "# m1\n",
    "driver.switch_to.default_content()\n",
    "iframe = driver.find_element(By.XPATH, '//*[@id=\"cloud-site\"]/div/div/devsite-iframe[36]/iframe')\n",
    "driver.switch_to.frame(iframe)\n",
    "\n",
    "meta_data = {}\n",
    "# get data\n",
    "tbody = driver.find_element(By.XPATH, '/html/body/div/div[2]/table/tbody[1]')\n",
    "for i in range(1, 4):\n",
    "    instance_type = tbody.find_element(By.XPATH, '//tr[{}]/td[1]'.format(i)).text\n",
    "    ondemand_meta = tbody.find_element(By.XPATH, '//tr[{}]/td[4]'.format(i))\n",
    "    preemptible_meta = tbody.find_element(By.XPATH, '//tr[{}]/td[5]'.format(i))\n",
    "    meta_data[instance_type] = {'ondemand_meta' : ondemand_meta, 'preemptible_meta': preemptible_meta}\n",
    "\n",
    "tbody = driver.find_element(By.XPATH, '/html/body/div/div[2]/table/tbody[2]')\n",
    "instance_type = tbody.find_element(By.XPATH, '//tr/td[1]'.format(i)).text\n",
    "ondemand_meta = tbody.find_element(By.XPATH, '//tr/td[4]'.format(i))\n",
    "preemptible_meta = tbody.find_element(By.XPATH, '//tr/td[5]'.format(i))\n",
    "meta_data[instance_type] = {'ondemand_meta' : ondemand_meta, 'preemptible_meta': preemptible_meta}\n",
    "\n",
    "extract_price(meta_data)"
   ]
  },
  {
   "cell_type": "markdown",
   "metadata": {},
   "source": [
    "A2"
   ]
  },
  {
   "cell_type": "code",
   "execution_count": 664,
   "metadata": {},
   "outputs": [],
   "source": [
    "# a2\n",
    "driver.switch_to.default_content()\n",
    "iframe = driver.find_element(By.XPATH, '//*[@id=\"cloud-site\"]/div/div/devsite-iframe[38]/iframe')\n",
    "driver.switch_to.frame(iframe)\n",
    "meta_data = get_data(1, 6)\n",
    "extract_price(meta_data)"
   ]
  },
  {
   "cell_type": "markdown",
   "metadata": {},
   "source": [
    "E2- shared core"
   ]
  },
  {
   "cell_type": "code",
   "execution_count": 665,
   "metadata": {},
   "outputs": [],
   "source": [
    "driver.switch_to.default_content()\n",
    "iframe = driver.find_element(By.XPATH, '//*[@id=\"cloud-site\"]/div/div/devsite-iframe[39]/iframe')\n",
    "driver.switch_to.frame(iframe)\n",
    "meta_data = get_data(1, 4)\n",
    "extract_price(meta_data)"
   ]
  },
  {
   "cell_type": "markdown",
   "metadata": {},
   "source": [
    "N1- shared core"
   ]
  },
  {
   "cell_type": "code",
   "execution_count": 666,
   "metadata": {},
   "outputs": [],
   "source": [
    "driver.switch_to.default_content()\n",
    "iframe = driver.find_element(By.XPATH, '//*[@id=\"cloud-site\"]/div/div/devsite-iframe[40]/iframe')\n",
    "driver.switch_to.frame(iframe)\n",
    "meta_data = get_data(1, 3)\n",
    "extract_price(meta_data)"
   ]
  },
  {
   "cell_type": "code",
   "execution_count": 668,
   "metadata": {},
   "outputs": [],
   "source": [
    "df_price_crawl = pd.DataFrame(data)"
   ]
  },
  {
   "cell_type": "code",
   "execution_count": 670,
   "metadata": {},
   "outputs": [],
   "source": [
    "df_price_crawl.to_json('./crawl_price.json')"
   ]
  },
  {
   "cell_type": "code",
   "execution_count": null,
   "metadata": {},
   "outputs": [],
   "source": []
  }
 ],
 "metadata": {
  "kernelspec": {
   "display_name": "Python 3.10.4 64-bit",
   "language": "python",
   "name": "python3"
  },
  "language_info": {
   "codemirror_mode": {
    "name": "ipython",
    "version": 3
   },
   "file_extension": ".py",
   "mimetype": "text/x-python",
   "name": "python",
   "nbconvert_exporter": "python",
   "pygments_lexer": "ipython3",
   "version": "3.10.4"
  },
  "orig_nbformat": 4,
  "vscode": {
   "interpreter": {
    "hash": "dfeb6f9788d16a221a085043db70ed2dd191136b365dfd9b4361e8492f1b538b"
   }
  }
 },
 "nbformat": 4,
 "nbformat_minor": 2
}
